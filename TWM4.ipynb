{
 "cells": [
  {
   "cell_type": "markdown",
   "metadata": {},
   "source": [
    "Adaptacion de modelo tomado de https://apmonitor.com/dde/index.php/Main/LLMTransformers con datos de Shanghai. Version 2"
   ]
  },
  {
   "cell_type": "markdown",
   "metadata": {},
   "source": [
    "Modificacion: Se normalizaron los datos con MinMaxScale y se redujeron las epocas de entrenamiento"
   ]
  },
  {
   "cell_type": "code",
   "execution_count": 188,
   "metadata": {},
   "outputs": [
    {
     "name": "stdout",
     "output_type": "stream",
     "text": [
      "True\n",
      "NVIDIA GeForce RTX 2060 SUPER\n"
     ]
    }
   ],
   "source": [
    "#Veamos si la grafica esta disponible\n",
    "import torch\n",
    "print(torch.cuda.is_available())\n",
    "print(torch.cuda.get_device_name(0))"
   ]
  },
  {
   "cell_type": "code",
   "execution_count": 189,
   "metadata": {},
   "outputs": [
    {
     "name": "stdout",
     "output_type": "stream",
     "text": [
      "Usando dispositivo: cuda\n"
     ]
    }
   ],
   "source": [
    "# Configurar el dispositivo GPU para utilizarlo en lugar del CPU\n",
    "device = torch.device(\"cuda\" if torch.cuda.is_available() else \"cpu\")\n",
    "print(\"Usando dispositivo:\", device)"
   ]
  },
  {
   "cell_type": "code",
   "execution_count": 190,
   "metadata": {},
   "outputs": [],
   "source": [
    "#Carguemos los datos\n",
    "import pandas as pd\n",
    "ShanghaiDat=pd.read_csv('Shanghai-2005-2025.csv')\n",
    "ShanghaiDat=ShanghaiDat.drop(ShanghaiDat.columns[0], axis=1)"
   ]
  },
  {
   "cell_type": "code",
   "execution_count": null,
   "metadata": {},
   "outputs": [],
   "source": [
    "#Debemos convertir nuestros datos en una ventana de datos deslizantes.\n",
    "import numpy as np\n",
    "\n",
    "# Convertimos los datos a un array de 1 dimension\n",
    "ShanghaiDat = np.array(ShanghaiDat).flatten()\n",
    "\n",
    "#Aplicamos MinMaxScaler a los datos\n",
    "from sklearn.preprocessing import MinMaxScaler\n",
    "scaler = MinMaxScaler()\n",
    "ShanghaiDat = scaler.fit_transform(ShanghaiDat.reshape(-1, 1)).flatten()\n",
    "\n",
    "\n",
    "#Dividimos en epocas de n dias\n",
    "def Epocas(sequence_length=12):\n",
    "    size = len(ShanghaiDat) \n",
    "    sequences = [ShanghaiDat[i:i+sequence_length] for i in range(size-sequence_length)]\n",
    "    next_points = ShanghaiDat[sequence_length:]\n",
    "\n",
    "    # Convertir a NumPy arrays correctamente\n",
    "    return np.array(sequences), np.array(next_points)"
   ]
  },
  {
   "cell_type": "code",
   "execution_count": 192,
   "metadata": {},
   "outputs": [],
   "source": [
    "#Terminamos de cargar todas las librerias que vamos a usar\n",
    "import torch\n",
    "import torch.nn as nn\n",
    "from torch.utils.data import Dataset, DataLoader\n",
    "\n",
    "class TimeSeriesDataset(Dataset):\n",
    "    def __init__(self, sequences, next_points):\n",
    "        self.sequences = sequences\n",
    "        self.next_points = next_points\n",
    "\n",
    "    def __len__(self):\n",
    "        return len(self.sequences)\n",
    "\n",
    "    def __getitem__(self, idx):\n",
    "        return self.sequences[idx], self.next_points[idx]"
   ]
  },
  {
   "cell_type": "code",
   "execution_count": 193,
   "metadata": {},
   "outputs": [],
   "source": [
    "# Transformer Model (simplified for numerical data)\n",
    "class TransformerModel(nn.Module):\n",
    "    def __init__(self, input_size=1, sequence_length=12, num_layers=2, num_heads=4, dim_feedforward=512):\n",
    "        super(TransformerModel, self).__init__() \n",
    "        self.sequence_length = sequence_length\n",
    "        self.encoder_layer = nn.TransformerEncoderLayer(d_model=input_size*sequence_length, nhead=num_heads, dim_feedforward=dim_feedforward)\n",
    "        self.transformer_encoder = nn.TransformerEncoder(self.encoder_layer, num_layers=num_layers)\n",
    "        self.fc_out = nn.Linear(input_size * sequence_length, 1)\n",
    "\n",
    "    def forward(self, src):\n",
    "        src = src.reshape(-1, self.sequence_length, 1) \n",
    "        src = src.flatten(start_dim=1) \n",
    "        src = src.unsqueeze(0) \n",
    "        out = self.transformer_encoder(src) \n",
    "        out = out.squeeze(0) \n",
    "        return self.fc_out(out) "
   ]
  },
  {
   "cell_type": "code",
   "execution_count": 194,
   "metadata": {},
   "outputs": [],
   "source": [
    "# Preparamos los datos\n",
    "sequences, next_points = Epocas()\n",
    "dataset = TimeSeriesDataset(sequences, next_points) \n",
    "dataloader = DataLoader(dataset, batch_size=32, shuffle=True)"
   ]
  },
  {
   "cell_type": "code",
   "execution_count": 195,
   "metadata": {},
   "outputs": [
    {
     "name": "stderr",
     "output_type": "stream",
     "text": [
      "C:\\Users\\Antonio Rojas\\AppData\\Local\\Packages\\PythonSoftwareFoundation.Python.3.11_qbz5n2kfra8p0\\LocalCache\\local-packages\\Python311\\site-packages\\torch\\nn\\modules\\transformer.py:385: UserWarning: enable_nested_tensor is True, but self.use_nested_tensor is False because encoder_layer.self_attn.batch_first was not True(use batch_first for better inference performance)\n",
      "  warnings.warn(\n"
     ]
    },
    {
     "name": "stdout",
     "output_type": "stream",
     "text": [
      "Epoch 1, Loss: 0.01654907688498497\n",
      "Epoch 2, Loss: 0.005657886154949665\n",
      "Epoch 3, Loss: 0.004434844013303518\n",
      "Epoch 4, Loss: 0.004343689419329166\n",
      "Epoch 5, Loss: 0.0014003911055624485\n",
      "Epoch 6, Loss: 0.002510573249310255\n",
      "Epoch 7, Loss: 0.0010762400925159454\n",
      "Epoch 8, Loss: 0.0014829138526692986\n",
      "Epoch 9, Loss: 0.0006515744025819004\n",
      "Epoch 10, Loss: 0.0009094108827412128\n",
      "Epoch 11, Loss: 0.0009867750341072679\n",
      "Epoch 12, Loss: 0.0022288986947387457\n",
      "Epoch 13, Loss: 0.0005856783827766776\n",
      "Epoch 14, Loss: 0.0008055305806919932\n",
      "Epoch 15, Loss: 0.0006768269813619554\n",
      "Epoch 16, Loss: 0.0014636124251410365\n",
      "Epoch 17, Loss: 0.0009444563766010106\n",
      "Epoch 18, Loss: 0.001515270327217877\n",
      "Epoch 19, Loss: 0.0013190889731049538\n",
      "Epoch 20, Loss: 0.0007762754103168845\n",
      "Epoch 21, Loss: 0.0016906203236430883\n",
      "Epoch 22, Loss: 0.0005211288807913661\n",
      "Epoch 23, Loss: 0.0007876541931182146\n",
      "Epoch 24, Loss: 0.0014509942848235369\n",
      "Epoch 25, Loss: 0.0011776783503592014\n",
      "Epoch 26, Loss: 0.0006503110635094345\n",
      "Epoch 27, Loss: 0.000929051311686635\n",
      "Epoch 28, Loss: 0.001209476962685585\n",
      "Epoch 29, Loss: 0.0008841115632094443\n",
      "Epoch 30, Loss: 0.0005714465514756739\n",
      "Epoch 31, Loss: 0.00045984916505403817\n",
      "Epoch 32, Loss: 0.0003106180811300874\n",
      "Epoch 33, Loss: 0.0021562459878623486\n",
      "Epoch 34, Loss: 0.0008663429180160165\n",
      "Epoch 35, Loss: 0.0006819154950790107\n",
      "Epoch 36, Loss: 0.0004718810087069869\n",
      "Epoch 37, Loss: 0.0006782994023524225\n",
      "Epoch 38, Loss: 0.000871177006047219\n",
      "Epoch 39, Loss: 0.0006407153559848666\n",
      "Epoch 40, Loss: 0.00035599851980805397\n",
      "Epoch 41, Loss: 0.0006299135275185108\n",
      "Epoch 42, Loss: 0.00031711155315861106\n",
      "Epoch 43, Loss: 0.0008580214926041663\n",
      "Epoch 44, Loss: 0.00042741079232655466\n",
      "Epoch 45, Loss: 0.0008678523590788245\n",
      "Epoch 46, Loss: 0.0002540792047511786\n",
      "Epoch 47, Loss: 0.00035920977825298905\n",
      "Epoch 48, Loss: 0.0008732728310860693\n",
      "Epoch 49, Loss: 0.0003268943401053548\n",
      "Epoch 50, Loss: 0.0004486810357775539\n",
      "Epoch 51, Loss: 0.0003001451841555536\n",
      "Epoch 52, Loss: 0.0004285952600184828\n",
      "Epoch 53, Loss: 0.00019189910381101072\n",
      "Epoch 54, Loss: 0.000566681323107332\n",
      "Epoch 55, Loss: 0.0004550759622361511\n",
      "Epoch 56, Loss: 0.00046289400779642165\n",
      "Epoch 57, Loss: 0.0005503614665940404\n",
      "Epoch 58, Loss: 0.00031150045106187463\n",
      "Epoch 59, Loss: 0.0005211883108131588\n",
      "Epoch 60, Loss: 0.0004800125607289374\n",
      "Epoch 61, Loss: 0.0002853171608876437\n",
      "Epoch 62, Loss: 0.00020454487821552902\n",
      "Epoch 63, Loss: 0.0002133412635885179\n",
      "Epoch 64, Loss: 0.0003113345301244408\n",
      "Epoch 65, Loss: 0.0005433273036032915\n",
      "Epoch 66, Loss: 0.0004322671447880566\n",
      "Epoch 67, Loss: 0.00031687994487583637\n",
      "Epoch 68, Loss: 0.00024132228281814605\n",
      "Epoch 69, Loss: 0.00017702921468298882\n",
      "Epoch 70, Loss: 0.00010291139187756926\n",
      "Epoch 71, Loss: 0.0007321165758185089\n",
      "Epoch 72, Loss: 0.00018054430256597698\n",
      "Epoch 73, Loss: 0.00028864128398709\n",
      "Epoch 74, Loss: 0.00046066095819696784\n",
      "Epoch 75, Loss: 0.00033995803096331656\n",
      "Epoch 76, Loss: 0.00019760015129577368\n",
      "Epoch 77, Loss: 0.000309787254082039\n",
      "Epoch 78, Loss: 0.0001494453608756885\n",
      "Epoch 79, Loss: 0.0002330841962248087\n",
      "Epoch 80, Loss: 0.0002890332543756813\n",
      "Epoch 81, Loss: 0.0001687625190243125\n",
      "Epoch 82, Loss: 0.00017862181994132698\n",
      "Epoch 83, Loss: 0.00039978805580176413\n",
      "Epoch 84, Loss: 0.0002824616094585508\n",
      "Epoch 85, Loss: 0.00014109416224528104\n",
      "Epoch 86, Loss: 0.0009238912025466561\n",
      "Epoch 87, Loss: 0.00030296051409095526\n",
      "Epoch 88, Loss: 0.00024682199000380933\n",
      "Epoch 89, Loss: 0.00012865888129454106\n",
      "Epoch 90, Loss: 0.00018041821022052318\n",
      "Epoch 91, Loss: 0.0004397068696562201\n",
      "Epoch 92, Loss: 0.00035400912747718394\n",
      "Epoch 93, Loss: 0.002142474986612797\n",
      "Epoch 94, Loss: 0.00028289828333072364\n",
      "Epoch 95, Loss: 0.00017954042414203286\n",
      "Epoch 96, Loss: 0.00020598407718352973\n",
      "Epoch 97, Loss: 0.00015736842760816216\n",
      "Epoch 98, Loss: 0.00018431020725984126\n",
      "Epoch 99, Loss: 0.001679119886830449\n",
      "Epoch 100, Loss: 0.00011430316953919828\n",
      "Epoch 101, Loss: 0.0002469992614351213\n",
      "Epoch 102, Loss: 0.00042216136353090405\n",
      "Epoch 103, Loss: 0.00012017622066196054\n",
      "Epoch 104, Loss: 0.00011518559767864645\n",
      "Epoch 105, Loss: 0.0003180768690072\n",
      "Epoch 106, Loss: 0.0002115430834237486\n",
      "Epoch 107, Loss: 0.00032500081579200923\n",
      "Epoch 108, Loss: 0.0002076505043078214\n",
      "Epoch 109, Loss: 0.00010289625788573176\n",
      "Epoch 110, Loss: 0.0003610361600294709\n",
      "Epoch 111, Loss: 0.00013714333181269467\n",
      "Epoch 112, Loss: 0.00019140916992910206\n",
      "Epoch 113, Loss: 0.00024605568614788353\n",
      "Epoch 114, Loss: 6.156838207971305e-05\n",
      "Epoch 115, Loss: 0.00017472755280323327\n",
      "Epoch 116, Loss: 0.0002608943323139101\n",
      "Epoch 117, Loss: 0.00022311550856102258\n",
      "Epoch 118, Loss: 0.0003906367055606097\n",
      "Epoch 119, Loss: 0.000245939678279683\n",
      "Epoch 120, Loss: 0.00029847491532564163\n",
      "Epoch 121, Loss: 0.000550942902918905\n",
      "Epoch 122, Loss: 0.00014213859685696661\n",
      "Epoch 123, Loss: 0.0007170025492087007\n",
      "Epoch 124, Loss: 0.0001460604544263333\n",
      "Epoch 125, Loss: 0.00021602377819363028\n",
      "Epoch 126, Loss: 0.00044575976789928973\n",
      "Epoch 127, Loss: 0.00028212121105752885\n",
      "Epoch 128, Loss: 0.0002134022070094943\n",
      "Epoch 129, Loss: 0.00023102470731828362\n",
      "Epoch 130, Loss: 0.00012088783114450052\n",
      "Epoch 131, Loss: 0.00020145859161857516\n",
      "Epoch 132, Loss: 0.00013343621685635298\n",
      "Epoch 133, Loss: 0.00010927799303317443\n",
      "Epoch 134, Loss: 0.00023341234191320837\n",
      "Epoch 135, Loss: 0.00024009158369153738\n",
      "Epoch 136, Loss: 0.00014433288015425205\n",
      "Epoch 137, Loss: 0.00018647051183506846\n",
      "Epoch 138, Loss: 0.00017699628369882703\n",
      "Epoch 139, Loss: 0.00015016425459180027\n",
      "Epoch 140, Loss: 0.00018068270583171397\n",
      "Epoch 141, Loss: 0.00015682766388636082\n",
      "Epoch 142, Loss: 0.0001841537159634754\n",
      "Epoch 143, Loss: 0.00028019555611535907\n",
      "Epoch 144, Loss: 0.00024515524273738265\n",
      "Epoch 145, Loss: 0.0003789689508266747\n",
      "Epoch 146, Loss: 0.00016336428234353662\n",
      "Epoch 147, Loss: 0.00015074336261022836\n",
      "Epoch 148, Loss: 0.00011502653069328517\n",
      "Epoch 149, Loss: 0.00024539988953620195\n",
      "Epoch 150, Loss: 0.00017365740495733917\n"
     ]
    }
   ],
   "source": [
    "#Entrenamiento del modelo\n",
    "model = TransformerModel().to(device)\n",
    "criterion = nn.MSELoss() #Funcion de perdida\n",
    "optimizer = torch.optim.Adam(model.parameters(), lr=0.0005) #Optimizador\n",
    "\n",
    "# Training loop\n",
    "losses=[]\n",
    "for epoch in range(150):\n",
    "    for seq, next_point in dataloader:\n",
    "        seq, next_point = seq.float().to(device), next_point.float().unsqueeze(1).to(device) \n",
    "        output = model(seq)\n",
    "        loss = criterion(output, next_point) \n",
    "        optimizer.zero_grad()\n",
    "        loss.backward()\n",
    "        optimizer.step()\n",
    "    print(f\"Epoch {epoch+1}, Loss: {loss.item()}\")\n",
    "    losses.append(loss)"
   ]
  },
  {
   "cell_type": "code",
   "execution_count": 196,
   "metadata": {},
   "outputs": [
    {
     "data": {
      "image/png": "[encoded data removed]",
      "text/plain": [
       "<Figure size 640x480 with 1 Axes>"
      ]
     },
     "metadata": {},
     "output_type": "display_data"
    }
   ],
   "source": [
    "import matplotlib.pyplot as plt\n",
    "\n",
    "losses = [loss.detach().cpu().item() for loss in losses]\n",
    "losses = np.array(losses)\n",
    "\n",
    "plt.plot(losses)\n",
    "plt.show()"
   ]
  },
  {
   "cell_type": "code",
   "execution_count": 214,
   "metadata": {},
   "outputs": [
    {
     "name": "stdout",
     "output_type": "stream",
     "text": [
      "Predicción (dato siguiente real): 1014.9916381835938\n",
      "Dato siguiente real original: 1204.39404296875\n"
     ]
    }
   ],
   "source": [
    "# Veamos cómo predice el modelo\n",
    "\n",
    "# Tomamos una secuencia ya escalada (por ejemplo, la primera del dataset)\n",
    "test_seq = sequences[0].reshape(-1, 1)  # La convertimos a forma columna\n",
    "test_seq = scaler.transform(test_seq).flatten()  # La reescalamos (aunque ya estaba escalada, es por claridad y generalidad)\n",
    "\n",
    "# Convertimos a tensor y agregamos dimensión de batch\n",
    "test_seq_tensor = torch.tensor(test_seq).float().unsqueeze(0).to(device)\n",
    "\n",
    "# Obtenemos la predicción del modelo\n",
    "with torch.no_grad():\n",
    "    predicted_scaled = model(test_seq_tensor)\n",
    "\n",
    "# Convertimos de vuelta a numpy\n",
    "predicted_scaled_np = predicted_scaled.cpu().numpy()\n",
    "\n",
    "# Desescalamos la predicción a su valor original\n",
    "predicted_real = scaler.inverse_transform(predicted_scaled_np)\n",
    "\n",
    "print(\"Predicción (dato siguiente real):\", predicted_real.item())\n",
    "print(\"Dato siguiente real original:\", scaler.inverse_transform([[next_points[0]]])[0][0])\n"
   ]
  }
 ],
 "metadata": {
  "kernelspec": {
   "display_name": "Python 3",
   "language": "python",
   "name": "python3"
  },
  "language_info": {
   "codemirror_mode": {
    "name": "ipython",
    "version": 3
   },
   "file_extension": ".py",
   "mimetype": "text/x-python",
   "name": "python",
   "nbconvert_exporter": "python",
   "pygments_lexer": "ipython3",
   "version": "3.11.9"
  }
 },
 "nbformat": 4,
 "nbformat_minor": 2
}
