{
 "cells": [
  {
   "cell_type": "markdown",
   "metadata": {},
   "source": [
    "Adaptacion de modelo tomado de https://apmonitor.com/dde/index.php/Main/LLMTransformers con datos de Shanghai. Version 2"
   ]
  },
  {
   "cell_type": "markdown",
   "metadata": {},
   "source": [
    "Modificacion: Se dividieron los datos en datos de entrenamiento y datos de prueba"
   ]
  },
  {
   "cell_type": "code",
   "execution_count": 225,
   "metadata": {},
   "outputs": [
    {
     "name": "stdout",
     "output_type": "stream",
     "text": [
      "True\n",
      "NVIDIA GeForce RTX 2060 SUPER\n"
     ]
    }
   ],
   "source": [
    "#Veamos si la grafica esta disponible\n",
    "import torch\n",
    "print(torch.cuda.is_available())\n",
    "print(torch.cuda.get_device_name(0))"
   ]
  },
  {
   "cell_type": "code",
   "execution_count": 226,
   "metadata": {},
   "outputs": [
    {
     "name": "stdout",
     "output_type": "stream",
     "text": [
      "Usando dispositivo: cuda\n"
     ]
    }
   ],
   "source": [
    "# Configurar el dispositivo GPU para utilizarlo en lugar del CPU\n",
    "device = torch.device(\"cuda\" if torch.cuda.is_available() else \"cpu\")\n",
    "print(\"Usando dispositivo:\", device)"
   ]
  },
  {
   "cell_type": "code",
   "execution_count": 227,
   "metadata": {},
   "outputs": [],
   "source": [
    "#Carguemos los datos\n",
    "import pandas as pd\n",
    "ShanghaiDat=pd.read_csv('Shanghai-2005-2025.csv')\n",
    "ShanghaiDat=ShanghaiDat.drop(ShanghaiDat.columns[0], axis=1)"
   ]
  },
  {
   "cell_type": "code",
   "execution_count": 228,
   "metadata": {},
   "outputs": [],
   "source": [
    "#Datos de entrenamiento\n",
    "ShanghaiDat_train=ShanghaiDat.iloc[:, 0:3900]\n",
    "#Datos de prueba\n",
    "ShanghaiDat_test=ShanghaiDat.iloc[:, 3900:]\n"
   ]
  },
  {
   "cell_type": "code",
   "execution_count": 229,
   "metadata": {},
   "outputs": [],
   "source": [
    "#Debemos convertir nuestros datos en una ventana de datos deslizantes.\n",
    "import numpy as np\n",
    "\n",
    "#Convertimos los datos a un array de 1 dimension (tomamos los datos de entrenamiento)\n",
    "ShanghaiDat_train = np.array(ShanghaiDat_train).flatten()\n",
    "\n",
    "#Aplicamos MinMaxScaler a los datos\n",
    "from sklearn.preprocessing import MinMaxScaler\n",
    "scaler = MinMaxScaler()\n",
    "ShanghaiDat_train = scaler.fit_transform(ShanghaiDat_train.reshape(-1, 1)).flatten()\n",
    "\n",
    "\n",
    "#Dividimos en epocas de n dias\n",
    "def Epocas(sequence_length=12):\n",
    "    size = len(ShanghaiDat_train) \n",
    "    sequences = [ShanghaiDat_train[i:i+sequence_length] for i in range(size-sequence_length)]\n",
    "    next_points = ShanghaiDat_train[sequence_length:]\n",
    "\n",
    "    # Convertir a NumPy arrays correctamente\n",
    "    return np.array(sequences), np.array(next_points)\n"
   ]
  },
  {
   "cell_type": "code",
   "execution_count": 230,
   "metadata": {},
   "outputs": [],
   "source": [
    "#Terminamos de cargar todas las librerias que vamos a usar\n",
    "import torch\n",
    "import torch.nn as nn\n",
    "from torch.utils.data import Dataset, DataLoader\n",
    "\n",
    "class TimeSeriesDataset(Dataset):\n",
    "    def __init__(self, sequences, next_points):\n",
    "        self.sequences = sequences\n",
    "        self.next_points = next_points\n",
    "\n",
    "    def __len__(self):\n",
    "        return len(self.sequences)\n",
    "\n",
    "    def __getitem__(self, idx):\n",
    "        return self.sequences[idx], self.next_points[idx]"
   ]
  },
  {
   "cell_type": "code",
   "execution_count": 231,
   "metadata": {},
   "outputs": [],
   "source": [
    "#Transformer Model (simplified for numerical data)\n",
    "class TransformerModel(nn.Module):\n",
    "    def __init__(self, input_size=1, sequence_length=12, num_layers=2, num_heads=4, dim_feedforward=512):\n",
    "        super(TransformerModel, self).__init__() \n",
    "        self.sequence_length = sequence_length\n",
    "        self.encoder_layer = nn.TransformerEncoderLayer(d_model=input_size*sequence_length, nhead=num_heads, dim_feedforward=dim_feedforward)\n",
    "        self.transformer_encoder = nn.TransformerEncoder(self.encoder_layer, num_layers=num_layers)\n",
    "        self.fc_out = nn.Linear(input_size * sequence_length, 1)\n",
    "\n",
    "    def forward(self, src):\n",
    "        src = src.reshape(-1, self.sequence_length, 1) \n",
    "        src = src.flatten(start_dim=1) \n",
    "        src = src.unsqueeze(0) \n",
    "        out = self.transformer_encoder(src) \n",
    "        out = out.squeeze(0) \n",
    "        return self.fc_out(out) "
   ]
  },
  {
   "cell_type": "code",
   "execution_count": 232,
   "metadata": {},
   "outputs": [],
   "source": [
    "# Preparamos los datos\n",
    "sequences, next_points = Epocas()\n",
    "dataset = TimeSeriesDataset(sequences, next_points) \n",
    "dataloader = DataLoader(dataset, batch_size=32, shuffle=True)\n"
   ]
  },
  {
   "cell_type": "code",
   "execution_count": 233,
   "metadata": {},
   "outputs": [
    {
     "name": "stderr",
     "output_type": "stream",
     "text": [
      "C:\\Users\\Antonio Rojas\\AppData\\Local\\Packages\\PythonSoftwareFoundation.Python.3.11_qbz5n2kfra8p0\\LocalCache\\local-packages\\Python311\\site-packages\\torch\\nn\\modules\\transformer.py:385: UserWarning: enable_nested_tensor is True, but self.use_nested_tensor is False because encoder_layer.self_attn.batch_first was not True(use batch_first for better inference performance)\n",
      "  warnings.warn(\n"
     ]
    },
    {
     "name": "stdout",
     "output_type": "stream",
     "text": [
      "Epoch 1, Loss: 0.03928307443857193\n",
      "Epoch 2, Loss: 0.01223541609942913\n",
      "Epoch 3, Loss: 0.01653221622109413\n",
      "Epoch 4, Loss: 0.010001406073570251\n",
      "Epoch 5, Loss: 0.008953710086643696\n",
      "Epoch 6, Loss: 0.004089638125151396\n",
      "Epoch 7, Loss: 0.009175899438560009\n",
      "Epoch 8, Loss: 0.0033844872377812862\n",
      "Epoch 9, Loss: 0.001201467588543892\n",
      "Epoch 10, Loss: 0.0032000504434108734\n",
      "Epoch 11, Loss: 0.0025917398743331432\n",
      "Epoch 12, Loss: 0.0032669759821146727\n",
      "Epoch 13, Loss: 0.0010439627803862095\n",
      "Epoch 14, Loss: 0.0004708227061200887\n",
      "Epoch 15, Loss: 0.0021779462695121765\n",
      "Epoch 16, Loss: 0.0014748700195923448\n",
      "Epoch 17, Loss: 0.0032794680446386337\n",
      "Epoch 18, Loss: 0.0018626733217388391\n",
      "Epoch 19, Loss: 0.001074981759302318\n",
      "Epoch 20, Loss: 0.0010230860207229853\n",
      "Epoch 21, Loss: 0.001339613925665617\n",
      "Epoch 22, Loss: 0.00288080470636487\n",
      "Epoch 23, Loss: 0.0015466128243133426\n",
      "Epoch 24, Loss: 0.0013672213535755873\n",
      "Epoch 25, Loss: 0.0008523114374838769\n",
      "Epoch 26, Loss: 0.00207167724147439\n",
      "Epoch 27, Loss: 0.000474849424790591\n",
      "Epoch 28, Loss: 0.00041530781891196966\n",
      "Epoch 29, Loss: 0.001067583099938929\n",
      "Epoch 30, Loss: 0.002427627332508564\n",
      "Epoch 31, Loss: 0.0007433822611346841\n",
      "Epoch 32, Loss: 0.0010044226655736566\n",
      "Epoch 33, Loss: 0.0010284247109666467\n",
      "Epoch 34, Loss: 0.0004750891821458936\n",
      "Epoch 35, Loss: 0.000698805321007967\n",
      "Epoch 36, Loss: 0.0004399367026053369\n",
      "Epoch 37, Loss: 0.0011089981999248266\n",
      "Epoch 38, Loss: 0.0010489476844668388\n",
      "Epoch 39, Loss: 0.002801518188789487\n",
      "Epoch 40, Loss: 0.0009621626231819391\n",
      "Epoch 41, Loss: 0.0012538910377770662\n",
      "Epoch 42, Loss: 0.000729552935808897\n",
      "Epoch 43, Loss: 0.0007701877038925886\n",
      "Epoch 44, Loss: 0.0005910827894695103\n",
      "Epoch 45, Loss: 0.0010589612647891045\n",
      "Epoch 46, Loss: 0.000956344825681299\n",
      "Epoch 47, Loss: 0.0014261329779401422\n",
      "Epoch 48, Loss: 0.0003368396428413689\n",
      "Epoch 49, Loss: 0.0010329985525459051\n",
      "Epoch 50, Loss: 0.000595933641307056\n",
      "Epoch 51, Loss: 0.0018423176370561123\n",
      "Epoch 52, Loss: 0.00044380093459039927\n",
      "Epoch 53, Loss: 0.000978556927293539\n",
      "Epoch 54, Loss: 0.000675123417750001\n",
      "Epoch 55, Loss: 0.0007293353555724025\n",
      "Epoch 56, Loss: 0.0003768805763684213\n",
      "Epoch 57, Loss: 0.0005377851193770766\n",
      "Epoch 58, Loss: 0.0003643272502813488\n",
      "Epoch 59, Loss: 0.0005234053824096918\n",
      "Epoch 60, Loss: 0.0005276247393339872\n",
      "Epoch 61, Loss: 0.0006306451978161931\n",
      "Epoch 62, Loss: 0.00018670974532142282\n",
      "Epoch 63, Loss: 0.000827987038064748\n",
      "Epoch 64, Loss: 0.00028070382541045547\n",
      "Epoch 65, Loss: 0.00019194491324014962\n",
      "Epoch 66, Loss: 0.00023194123059511185\n",
      "Epoch 67, Loss: 0.000633472518529743\n",
      "Epoch 68, Loss: 0.00020536905503831804\n",
      "Epoch 69, Loss: 0.0005253036506474018\n",
      "Epoch 70, Loss: 0.0008016926003620028\n",
      "Epoch 71, Loss: 0.0004072234150953591\n",
      "Epoch 72, Loss: 0.0002034935459960252\n",
      "Epoch 73, Loss: 0.0002209488593507558\n",
      "Epoch 74, Loss: 0.00014827078848611563\n",
      "Epoch 75, Loss: 0.0006560551701113582\n",
      "Epoch 76, Loss: 0.0006218437338247895\n",
      "Epoch 77, Loss: 0.0002918864774983376\n",
      "Epoch 78, Loss: 0.00038705160841345787\n",
      "Epoch 79, Loss: 0.0003582473727874458\n",
      "Epoch 80, Loss: 0.0008543933508917689\n",
      "Epoch 81, Loss: 0.0005194345721974969\n",
      "Epoch 82, Loss: 0.0003090100362896919\n",
      "Epoch 83, Loss: 0.0004682218423113227\n",
      "Epoch 84, Loss: 0.00041211931966245174\n",
      "Epoch 85, Loss: 0.00017258097068406641\n",
      "Epoch 86, Loss: 0.0001838656171457842\n",
      "Epoch 87, Loss: 0.00019615364726632833\n",
      "Epoch 88, Loss: 0.00026319833705201745\n",
      "Epoch 89, Loss: 0.00027766136918216944\n",
      "Epoch 90, Loss: 0.0003722781839314848\n",
      "Epoch 91, Loss: 0.0009336861548945308\n",
      "Epoch 92, Loss: 0.0015751140890643\n",
      "Epoch 93, Loss: 0.0001626068988116458\n",
      "Epoch 94, Loss: 0.000676850089803338\n",
      "Epoch 95, Loss: 0.0003287152503617108\n",
      "Epoch 96, Loss: 0.0002979650453198701\n",
      "Epoch 97, Loss: 0.0006449222564697266\n",
      "Epoch 98, Loss: 0.00018118938896805048\n",
      "Epoch 99, Loss: 0.0005409518489614129\n",
      "Epoch 100, Loss: 0.00018270674627274275\n",
      "Epoch 101, Loss: 0.0007634879439137876\n",
      "Epoch 102, Loss: 0.0001539277727715671\n",
      "Epoch 103, Loss: 0.0002212428516941145\n",
      "Epoch 104, Loss: 0.0001045560566126369\n",
      "Epoch 105, Loss: 0.0005175881087779999\n",
      "Epoch 106, Loss: 8.170432556653395e-05\n",
      "Epoch 107, Loss: 0.0005994379753246903\n",
      "Epoch 108, Loss: 0.001032847911119461\n",
      "Epoch 109, Loss: 0.0002412989124422893\n",
      "Epoch 110, Loss: 0.00020867955754511058\n",
      "Epoch 111, Loss: 0.0002904909779317677\n",
      "Epoch 112, Loss: 0.00028011243557557464\n",
      "Epoch 113, Loss: 0.00030639045871794224\n",
      "Epoch 114, Loss: 0.00015701352094765753\n",
      "Epoch 115, Loss: 0.0005594902904704213\n",
      "Epoch 116, Loss: 0.00013106173719279468\n",
      "Epoch 117, Loss: 0.00030171158141456544\n",
      "Epoch 118, Loss: 0.00024676453904248774\n",
      "Epoch 119, Loss: 0.0003397483378648758\n",
      "Epoch 120, Loss: 0.00030524597968906164\n",
      "Epoch 121, Loss: 0.00024155440041795373\n",
      "Epoch 122, Loss: 0.00039939454291015863\n",
      "Epoch 123, Loss: 0.00021881995780859143\n",
      "Epoch 124, Loss: 0.00023866869742050767\n",
      "Epoch 125, Loss: 6.893970567034557e-05\n",
      "Epoch 126, Loss: 0.00018761257524602115\n",
      "Epoch 127, Loss: 0.00017549323092680424\n",
      "Epoch 128, Loss: 0.00010122518870048225\n",
      "Epoch 129, Loss: 0.00016341544687747955\n",
      "Epoch 130, Loss: 0.0002895458310376853\n",
      "Epoch 131, Loss: 8.069441537372768e-05\n",
      "Epoch 132, Loss: 0.00024353738990612328\n",
      "Epoch 133, Loss: 0.0001991197350434959\n",
      "Epoch 134, Loss: 0.0002057029341813177\n",
      "Epoch 135, Loss: 0.00014952511992305517\n",
      "Epoch 136, Loss: 0.0002201520255766809\n",
      "Epoch 137, Loss: 0.00013159168884158134\n",
      "Epoch 138, Loss: 0.00026942818658426404\n",
      "Epoch 139, Loss: 4.6657871280331165e-05\n",
      "Epoch 140, Loss: 0.0003207060508430004\n",
      "Epoch 141, Loss: 0.00024838114040903747\n",
      "Epoch 142, Loss: 0.0003451232914812863\n",
      "Epoch 143, Loss: 0.0002806154661811888\n",
      "Epoch 144, Loss: 0.0005045952275395393\n",
      "Epoch 145, Loss: 0.0001519301877124235\n",
      "Epoch 146, Loss: 0.0005355526227504015\n",
      "Epoch 147, Loss: 0.0002608879585750401\n",
      "Epoch 148, Loss: 0.00025221865507774055\n",
      "Epoch 149, Loss: 0.0003306028665974736\n",
      "Epoch 150, Loss: 0.0001377607841277495\n",
      "Epoch 151, Loss: 0.00026198115665465593\n",
      "Epoch 152, Loss: 0.00043984950752928853\n",
      "Epoch 153, Loss: 9.965616482077166e-05\n",
      "Epoch 154, Loss: 0.00024512907839380205\n",
      "Epoch 155, Loss: 0.00039192300755530596\n",
      "Epoch 156, Loss: 0.0003846217296086252\n",
      "Epoch 157, Loss: 0.00018928307690657675\n",
      "Epoch 158, Loss: 0.00012177624739706516\n",
      "Epoch 159, Loss: 9.693321044323966e-05\n",
      "Epoch 160, Loss: 0.00018257013289257884\n",
      "Epoch 161, Loss: 0.00021566575742326677\n",
      "Epoch 162, Loss: 8.788493141764775e-05\n",
      "Epoch 163, Loss: 0.00012479553697630763\n",
      "Epoch 164, Loss: 0.0005844550323672593\n",
      "Epoch 165, Loss: 0.00019102766236755997\n",
      "Epoch 166, Loss: 0.00042152052628807724\n",
      "Epoch 167, Loss: 0.00043734628707170486\n",
      "Epoch 168, Loss: 0.00017531024059280753\n",
      "Epoch 169, Loss: 0.0002906469744630158\n",
      "Epoch 170, Loss: 0.00010270781785948202\n",
      "Epoch 171, Loss: 0.0005965234013274312\n",
      "Epoch 172, Loss: 0.00010017430759035051\n",
      "Epoch 173, Loss: 0.0002271999401273206\n",
      "Epoch 174, Loss: 0.00016121107910294086\n",
      "Epoch 175, Loss: 0.0006955438293516636\n",
      "Epoch 176, Loss: 9.91669439827092e-05\n",
      "Epoch 177, Loss: 0.0002062989369733259\n",
      "Epoch 178, Loss: 0.0005527738248929381\n",
      "Epoch 179, Loss: 0.0002774868335109204\n",
      "Epoch 180, Loss: 0.00017832580488175154\n",
      "Epoch 181, Loss: 0.00031556395697407424\n",
      "Epoch 182, Loss: 0.0001960095833055675\n",
      "Epoch 183, Loss: 8.702531340532005e-05\n",
      "Epoch 184, Loss: 0.00030426273588091135\n",
      "Epoch 185, Loss: 0.000155362649820745\n",
      "Epoch 186, Loss: 0.00013116789341438562\n",
      "Epoch 187, Loss: 0.0003338018723297864\n",
      "Epoch 188, Loss: 0.00024911449872888625\n",
      "Epoch 189, Loss: 0.0001352034305455163\n",
      "Epoch 190, Loss: 0.00015634813462384045\n",
      "Epoch 191, Loss: 0.00021020843996666372\n",
      "Epoch 192, Loss: 0.00027897144900634885\n",
      "Epoch 193, Loss: 0.00023538766254205257\n",
      "Epoch 194, Loss: 0.0002512133214622736\n",
      "Epoch 195, Loss: 0.00012977294682059437\n",
      "Epoch 196, Loss: 0.0003287443541921675\n",
      "Epoch 197, Loss: 0.00011683143384288996\n",
      "Epoch 198, Loss: 0.00015835683734621853\n",
      "Epoch 199, Loss: 0.0005752729484811425\n",
      "Epoch 200, Loss: 0.00020753531134687364\n"
     ]
    }
   ],
   "source": [
    "#Entrenamiento del modelo\n",
    "model = TransformerModel().to(device)\n",
    "criterion = nn.MSELoss() #Funcion de perdida\n",
    "optimizer = torch.optim.Adam(model.parameters(), lr=0.0005) #Optimizador\n",
    "\n",
    "#Training loop\n",
    "losses=[]\n",
    "for epoch in range(200):\n",
    "    for seq, next_point in dataloader:\n",
    "        seq, next_point = seq.float().to(device), next_point.float().unsqueeze(1).to(device) \n",
    "        output = model(seq)\n",
    "        loss = criterion(output, next_point) \n",
    "        optimizer.zero_grad()\n",
    "        loss.backward()\n",
    "        optimizer.step()\n",
    "    print(f\"Epoch {epoch+1}, Loss: {loss.item()}\")\n",
    "    losses.append(loss)"
   ]
  },
  {
   "cell_type": "code",
   "execution_count": 234,
   "metadata": {},
   "outputs": [
    {
     "data": {
      "image/png": "[encoded data removed]",
      "text/plain": [
       "<Figure size 640x480 with 1 Axes>"
      ]
     },
     "metadata": {},
     "output_type": "display_data"
    }
   ],
   "source": [
    "import matplotlib.pyplot as plt\n",
    "\n",
    "losses = [loss.detach().cpu().item() for loss in losses]\n",
    "losses = np.array(losses)\n",
    "\n",
    "plt.plot(losses)\n",
    "plt.show()"
   ]
  },
  {
   "cell_type": "code",
   "execution_count": 235,
   "metadata": {},
   "outputs": [
    {
     "name": "stdout",
     "output_type": "stream",
     "text": [
      "Predicción: 1184.2391357421875\n",
      "Dato siguiente real: 1204.39404296875\n"
     ]
    }
   ],
   "source": [
    "# Veamos cómo predice el modelo\n",
    "\n",
    "# Tomamos una secuencia ya escalada (por ejemplo, la primera del dataset)\n",
    "test_seq = sequences[0].reshape(-1, 1)  # La convertimos a forma columna\n",
    "test_seq = scaler.transform(test_seq).flatten()  # La reescalamos (aunque ya estaba escalada, es por claridad y generalidad)\n",
    "\n",
    "# Convertimos a tensor y agregamos dimensión de batch\n",
    "test_seq_tensor = torch.tensor(test_seq).float().unsqueeze(0).to(device)\n",
    "\n",
    "# Obtenemos la predicción del modelo\n",
    "with torch.no_grad():\n",
    "    predicted_scaled = model(test_seq_tensor)\n",
    "\n",
    "# Convertimos de vuelta a numpy\n",
    "predicted_scaled_np = predicted_scaled.cpu().numpy()\n",
    "\n",
    "# Desescalamos la predicción a su valor original\n",
    "predicted_real = scaler.inverse_transform(predicted_scaled_np)\n",
    "\n",
    "print(\"Predicción:\", predicted_real.item())\n",
    "print(\"Dato siguiente real:\", scaler.inverse_transform([[next_points[0]]])[0][0])\n"
   ]
  },
  {
   "cell_type": "code",
   "execution_count": 236,
   "metadata": {},
   "outputs": [],
   "source": [
    "#Comparemos los datos reales con las predicciones que hace el modelo\n",
    "predicciones=[]\n",
    "for i in sequences:\n",
    "    test_seq = torch.tensor(i).float()\n",
    "    test_seq = test_seq.unsqueeze(0)\n",
    "    test_seq = test_seq.to(device)\n",
    "    with torch.no_grad():\n",
    "        predicted_point = model(test_seq)\n",
    "    predicciones.append(predicted_point.item())"
   ]
  },
  {
   "cell_type": "code",
   "execution_count": null,
   "metadata": {},
   "outputs": [
    {
     "data": {
      "image/png": "[encoded data removed]",
      "text/plain": [
       "<Figure size 640x480 with 1 Axes>"
      ]
     },
     "metadata": {},
     "output_type": "display_data"
    }
   ],
   "source": [
    "#Graficamos los datos desnormalizados\n",
    "predicciones_array = np.array(predicciones).reshape(-1, 1)\n",
    "\n",
    "predicciones_desnormalizadas = scaler.inverse_transform(predicciones_array)\n",
    "ShanghaiDat_desnormalizado = scaler.inverse_transform(ShanghaiDat_train.reshape(-1, 1))\n",
    "\n",
    "ShanghaiDat_desnormalizado = ShanghaiDat_desnormalizado[12:] #Ignoramos los primeros 12 datos reales, pues la primera prediccion corresponde al dato real numero 13\n",
    "\n",
    "plt.plot(ShanghaiDat_desnormalizado, label='Datos reales')\n",
    "plt.plot(predicciones_desnormalizadas, label='Predicción')\n",
    "plt.legend()\n",
    "plt.show()"
   ]
  },
  {
   "cell_type": "code",
   "execution_count": 238,
   "metadata": {},
   "outputs": [
    {
     "name": "stdout",
     "output_type": "stream",
     "text": [
      "3888\n",
      "3888\n"
     ]
    }
   ],
   "source": [
    "print(len(predicciones_desnormalizadas))\n",
    "print(len(ShanghaiDat_desnormalizado))"
   ]
  }
 ],
 "metadata": {
  "kernelspec": {
   "display_name": "Python 3",
   "language": "python",
   "name": "python3"
  },
  "language_info": {
   "codemirror_mode": {
    "name": "ipython",
    "version": 3
   },
   "file_extension": ".py",
   "mimetype": "text/x-python",
   "name": "python",
   "nbconvert_exporter": "python",
   "pygments_lexer": "ipython3",
   "version": "3.11.9"
  }
 },
 "nbformat": 4,
 "nbformat_minor": 2
}
